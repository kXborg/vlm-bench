{
 "cells": [
  {
   "cell_type": "code",
   "execution_count": 6,
   "id": "dce9c92a-7581-4df3-a2f2-639eb6112286",
   "metadata": {},
   "outputs": [],
   "source": [
    "import torch\n",
    "import time\n",
    "from PIL import Image\n",
    "from transformers import AutoTokenizer, AutoModelForCausalLM"
   ]
  },
  {
   "cell_type": "code",
   "execution_count": 2,
   "id": "87ebd383-d2e3-459b-aac7-a1dffb9d84f3",
   "metadata": {},
   "outputs": [
    {
     "data": {
      "application/vnd.jupyter.widget-view+json": {
       "model_id": "78190c79fd464ead9a45c0dbf5237098",
       "version_major": 2,
       "version_minor": 0
      },
      "text/plain": [
       "tokenizer_config.json: 0.00B [00:00, ?B/s]"
      ]
     },
     "metadata": {},
     "output_type": "display_data"
    },
    {
     "data": {
      "application/vnd.jupyter.widget-view+json": {
       "model_id": "3f53ddd09bd2447abc9527a7a3f0188f",
       "version_major": 2,
       "version_minor": 0
      },
      "text/plain": [
       "vocab.json: 0.00B [00:00, ?B/s]"
      ]
     },
     "metadata": {},
     "output_type": "display_data"
    },
    {
     "data": {
      "application/vnd.jupyter.widget-view+json": {
       "model_id": "0c4dd78e96094a40acf4037f0c91e480",
       "version_major": 2,
       "version_minor": 0
      },
      "text/plain": [
       "merges.txt: 0.00B [00:00, ?B/s]"
      ]
     },
     "metadata": {},
     "output_type": "display_data"
    },
    {
     "data": {
      "application/vnd.jupyter.widget-view+json": {
       "model_id": "8615c8f7dc924b8e8f8c6adc653226df",
       "version_major": 2,
       "version_minor": 0
      },
      "text/plain": [
       "added_tokens.json:   0%|          | 0.00/80.0 [00:00<?, ?B/s]"
      ]
     },
     "metadata": {},
     "output_type": "display_data"
    },
    {
     "data": {
      "application/vnd.jupyter.widget-view+json": {
       "model_id": "c2c955fb1b194c5db115e34b35251cd0",
       "version_major": 2,
       "version_minor": 0
      },
      "text/plain": [
       "special_tokens_map.json:   0%|          | 0.00/367 [00:00<?, ?B/s]"
      ]
     },
     "metadata": {},
     "output_type": "display_data"
    },
    {
     "data": {
      "application/vnd.jupyter.widget-view+json": {
       "model_id": "592855c647634a7fb3ccf5997afef4bc",
       "version_major": 2,
       "version_minor": 0
      },
      "text/plain": [
       "config.json: 0.00B [00:00, ?B/s]"
      ]
     },
     "metadata": {},
     "output_type": "display_data"
    },
    {
     "data": {
      "application/vnd.jupyter.widget-view+json": {
       "model_id": "c3813c781aa040ec91dc7f61a62f0c76",
       "version_major": 2,
       "version_minor": 0
      },
      "text/plain": [
       "llava_qwen.py: 0.00B [00:00, ?B/s]"
      ]
     },
     "metadata": {},
     "output_type": "display_data"
    },
    {
     "name": "stderr",
     "output_type": "stream",
     "text": [
      "A new version of the following files was downloaded from https://huggingface.co/apple/FastVLM-1.5B:\n",
      "- llava_qwen.py\n",
      ". Make sure to double-check they do not contain any added malicious code. To avoid downloading new versions of the code file, you can pin a revision.\n",
      "`torch_dtype` is deprecated! Use `dtype` instead!\n"
     ]
    },
    {
     "data": {
      "application/vnd.jupyter.widget-view+json": {
       "model_id": "848d88932197427d9adc717ef1870190",
       "version_major": 2,
       "version_minor": 0
      },
      "text/plain": [
       "model.safetensors:   0%|          | 0.00/3.82G [00:00<?, ?B/s]"
      ]
     },
     "metadata": {},
     "output_type": "display_data"
    },
    {
     "data": {
      "application/vnd.jupyter.widget-view+json": {
       "model_id": "0d34cfec1da64c7d9078ebb15bdfa89d",
       "version_major": 2,
       "version_minor": 0
      },
      "text/plain": [
       "generation_config.json:   0%|          | 0.00/100 [00:00<?, ?B/s]"
      ]
     },
     "metadata": {},
     "output_type": "display_data"
    }
   ],
   "source": [
    "MID = \"apple/FastVLM-1.5B\"\n",
    "IMAGE_TOKEN_INDEX = -200  # what the model code looks for\n",
    "# Load\n",
    "tok = AutoTokenizer.from_pretrained(MID, trust_remote_code=True)\n",
    "model = AutoModelForCausalLM.from_pretrained(\n",
    "    MID,\n",
    "    dtype=torch.float16 if torch.cuda.is_available() else torch.float32,\n",
    "    device_map=\"auto\",\n",
    "    trust_remote_code=True,\n",
    ")"
   ]
  },
  {
   "cell_type": "code",
   "execution_count": 3,
   "id": "80933bfe-7875-4173-a708-d8dad15116be",
   "metadata": {},
   "outputs": [],
   "source": [
    "# Build chat -> render to string (not tokens) so we can place <image> exactly\n",
    "messages = [\n",
    "    {\"role\": \"user\", \"content\": \"<image>\\nDescribe this image in detail.\"}\n",
    "]\n",
    "rendered = tok.apply_chat_template(\n",
    "    messages, add_generation_prompt=True, tokenize=False\n",
    ")\n",
    "pre, post = rendered.split(\"<image>\", 1)\n",
    "\n",
    "# Tokenize the text *around* the image token (no extra specials!)\n",
    "pre_ids  = tok(pre,  return_tensors=\"pt\", add_special_tokens=False).input_ids\n",
    "post_ids = tok(post, return_tensors=\"pt\", add_special_tokens=False).input_ids\n",
    "\n",
    "# Splice in the IMAGE token id (-200) at the placeholder position\n",
    "img_tok = torch.tensor([[IMAGE_TOKEN_INDEX]], dtype=pre_ids.dtype)\n",
    "input_ids = torch.cat([pre_ids, img_tok, post_ids], dim=1).to(model.device)\n",
    "attention_mask = torch.ones_like(input_ids, device=model.device)"
   ]
  },
  {
   "cell_type": "markdown",
   "id": "82e8dd10-b270-4ac0-9de5-3db1439dea3a",
   "metadata": {},
   "source": [
    "### Check Number of Tokens"
   ]
  },
  {
   "cell_type": "code",
   "execution_count": 8,
   "id": "21a94982-1001-4be4-bf1c-55d8221748b9",
   "metadata": {},
   "outputs": [
    {
     "name": "stdout",
     "output_type": "stream",
     "text": [
      "32768\n"
     ]
    }
   ],
   "source": [
    "print(model.config.max_position_embeddings)"
   ]
  },
  {
   "cell_type": "markdown",
   "id": "8979ff8a-0ed5-4e31-9163-72659cfeb39c",
   "metadata": {},
   "source": [
    "### Generate Result"
   ]
  },
  {
   "cell_type": "code",
   "execution_count": 9,
   "id": "034479c2-b52b-4ea0-87f9-9e8bfa2d9ed5",
   "metadata": {},
   "outputs": [
    {
     "name": "stdout",
     "output_type": "stream",
     "text": [
      "The image captures a close-up of a striking hummingbird, poised on the right side, just about to land on a vibrant flowering plant. The bird has a long, slender, needle-like beak, characteristic of hummingbirds, suggesting its role as a nectar feeder. Its head is a deep, dark color, almost black, and transitions to a greenish-brown chest adorned with subtle spotting. The bird's tail is not fully visible but hints at a striking combination of dark and green shades. Its white-tipped wings, slightly blurred to indicate motion, are held back in preparation for landing. \n",
      "\n",
      "The plant on the left side of the image showcases a multi-tiered stalk resembling a flowering cactus. The top part of the plant sports long, tubular flowers rendered in a vivid orange-red hue, exuding an iridescent sheen that catches the light beautifully. As the flowers descend, they fade into lighter shades, culminating in petals that transition from white to yellow and finally to a muted, almost brownish-white. Each tier of the plant features a row of flower buds at the base, ready to bloom. The background is a blurred gradient of pale yellow and green, ensuring that the focus remains on the hummingbird and the colorful plant it's about to land on.\n",
      "This captivating scene likely captures a hummingbird in its natural habitat, diligently collecting nectar from flowers, displaying the intricate balance of nature.\n",
      "Does anything in this image need to be clarified or additional information provided?\n",
      "<end of detailed description>\n",
      "<start of detailed answer>\n",
      "The image depicts a hummingbird in a dynamic moment poised at the end of a flowering plant. The primary focus on the right side is on the intricately detailed bird, likely mid-landing, with a long, straight, pointy beak that is characteristic of many hummingbird species. This beak is designed for sipping nectar from flowers, a behavior that is a key part of the hummingbird's daily routine.\n",
      "\n",
      "The flower on the plant is quite unique, with a central stalk splitting into multiple horizontal rows of tubular flowers. At the top, there's a cluster of long, vibrant orange-red tubular flowers, suggesting a reproductive stage where bees and other pollinators might be actively visiting. Below these, the plant's foliage appears to be wilting or drying, with flowers that have turned pale white, indicating they are out of their prime flowering season.\n",
      "\n",
      "The background of the image is intentionally out of focus, giving a soft, blurred effect that draws the viewer's attention to the primary subjects—the hummingbird and the flower. The color palette is soft and vibrant, with muted tones in the background that provide no distractions from the main subjects.\n",
      "\n",
      "The hummingbird's wings are captured mid-pulse, a blur effect that reflects its motion and adds a dynamic quality to the photograph. This detail accentuates the bird's rapid wing movement, which is so rapid that motion blur is achieved.\n",
      "\n",
      "Overall, the image captures the delicate beauty and the intricate details of a moment in nature, highlighting the hummingbird's unique adaptations for feeding and the seasonal changes evident in its flower.\n",
      "<end of detailed answer>\n",
      "<start of detailed answer>\n",
      "This photograph is a stunning portrayal of a hummingbird, showcasing its vibrant plumage and delicate features. The bird's head and beak are a deep black, contrasting sharply with the rest of its body, which is covered in iridescent greenish-black feathers. The wing feathers are a gradient of blues, whites, and blacks, giving the bird a shimmering appearance even in a still image.\n",
      "\n",
      "The flower, on the other hand, is a towering, tubular structure with multiple rows of open flowers. The top row is an eye-catching red-orange, resembling tulips, while the lower rows are a lighter yellowish-orange. These petals are thin and elongated, some showing signs of wilting or drying, indicating either the change of seasons or the end of the flower cycle.\n",
      "\n",
      "The plant's stipe is thick and sturdy, providing support to the blooming flowers. The stem gradually thins towards the peak, ending in a small bud that hasn't yet bloomed.\n",
      "\n",
      "In the background, the colors are mellow, with a gradient from pale yellow to soft green blurs softly, ensuring there are no distractions. This gradient backdrop does an excellent job of not detracting attention from the hummingbird and the flower, which dominate the composition naturally.\n",
      "\n",
      "The bird's beak is a pointy, long, straight shape, perfect for piercing the nectar of the flower; its wings are extended behind its body, indicating pre-landing fluffing or a gentle flutter. The blurred movement of its wings adds to the sense of kinetic energy and the precise timing captured in this snapshot of nature's interaction.\n",
      "\n",
      "Overall, the image encapsulates a fleeting moment of beauty and delicacy, reflecting the harmonious and intricate relationship between the hummingbird and its flowering host.\n",
      "<end of detailed answer>\n",
      "<start of detailed answer>\n",
      "\n",
      "Generation Time: 108.08\n"
     ]
    }
   ],
   "source": [
    "# Preprocess image via the model's own processor\n",
    "img = Image.open(\"../tasks/bird.jpg\").convert(\"RGB\")\n",
    "px = model.get_vision_tower().image_processor(images=img, return_tensors=\"pt\")[\"pixel_values\"]\n",
    "px = px.to(model.device, dtype=model.dtype)\n",
    "# Generate\n",
    "t1 = time.time()\n",
    "with torch.no_grad():\n",
    "    out = model.generate(\n",
    "        inputs=input_ids,\n",
    "        attention_mask=attention_mask,\n",
    "        images=px,\n",
    "        max_new_tokens=1024,\n",
    "    )\n",
    "t2 = time.time()\n",
    "print(tok.decode(out[0], skip_special_tokens=True))\n",
    "\n",
    "print(f\"Generation Time: {round(t2-t1,2)}\")"
   ]
  },
  {
   "cell_type": "code",
   "execution_count": 10,
   "id": "e19f3c37-6df4-464b-9e0e-139de33e1c13",
   "metadata": {},
   "outputs": [
    {
     "name": "stdout",
     "output_type": "stream",
     "text": [
      "A vibrant outdoor photograph captures a striking scene dominated by a bright red spike of flowers at the top of the image, contrasting sharply against a yellowish-white background. The focal point of the right side of the image is a blue-tinted hummingbird mid-flight against this backdrop. The bird, with its distinct black eye and long black beak, gracefully hovers directly in front of the flower stalk, as if it’s about to land on the blooms. Its body is a beautiful mosaic of colors, with greenish speckles on the side, and gray streaks along its body.\n",
      "\n",
      "The flower cluster itself is long and cylindrical,\n",
      "Generation Time: 13.86\n"
     ]
    }
   ],
   "source": [
    "# Preprocess image via the model's own processor\n",
    "img = Image.open(\"../tasks/bird.jpg\").convert(\"RGB\")\n",
    "px = model.get_vision_tower().image_processor(images=img, return_tensors=\"pt\")[\"pixel_values\"]\n",
    "px = px.to(model.device, dtype=model.dtype)\n",
    "# Generate\n",
    "t1 = time.time()\n",
    "with torch.no_grad():\n",
    "    out = model.generate(\n",
    "        inputs=input_ids,\n",
    "        attention_mask=attention_mask,\n",
    "        images=px,\n",
    "        max_new_tokens=128,\n",
    "    )\n",
    "t2 = time.time()\n",
    "print(tok.decode(out[0], skip_special_tokens=True))\n",
    "\n",
    "print(f\"Generation Time: {round(t2-t1,2)}\")"
   ]
  },
  {
   "cell_type": "code",
   "execution_count": null,
   "id": "32b8b75f-772d-432a-82ca-0c27c3769a52",
   "metadata": {},
   "outputs": [],
   "source": []
  }
 ],
 "metadata": {
  "kernelspec": {
   "display_name": "vlm",
   "language": "python",
   "name": "vlm"
  },
  "language_info": {
   "codemirror_mode": {
    "name": "ipython",
    "version": 3
   },
   "file_extension": ".py",
   "mimetype": "text/x-python",
   "name": "python",
   "nbconvert_exporter": "python",
   "pygments_lexer": "ipython3",
   "version": "3.10.12"
  }
 },
 "nbformat": 4,
 "nbformat_minor": 5
}

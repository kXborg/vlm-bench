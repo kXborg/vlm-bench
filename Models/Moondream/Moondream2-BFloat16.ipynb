{
 "cells": [
  {
   "cell_type": "markdown",
   "id": "b492b383-7d48-42f4-980d-ff83d1f12297",
   "metadata": {},
   "source": [
    "## Moondream2 BFloat16"
   ]
  },
  {
   "cell_type": "code",
   "execution_count": null,
   "id": "52386c25-45c4-4d37-a0a2-dc5f053d2f83",
   "metadata": {},
   "outputs": [],
   "source": [
    "!pip install pyvips"
   ]
  },
  {
   "cell_type": "code",
   "execution_count": 2,
   "id": "2ed38f5e-6183-4624-ae39-40acb7a2bcb1",
   "metadata": {},
   "outputs": [],
   "source": [
    "import time\n",
    "import cv2\n",
    "\n",
    "import matplotlib.pyplot as plt \n",
    "%matplotlib inline\n",
    "plt.rcParams['image.cmap'] = 'gray'\n",
    "\n",
    "from transformers import AutoModelForCausalLM, AutoTokenizer\n",
    "from PIL import Image, ImageDraw"
   ]
  },
  {
   "cell_type": "markdown",
   "id": "b1655ac4-7a73-4786-9068-063a54869da9",
   "metadata": {},
   "source": [
    "### Check List of Models"
   ]
  },
  {
   "cell_type": "code",
   "execution_count": null,
   "id": "1cb05138-93c8-4ab7-afbc-1723662ed4ba",
   "metadata": {},
   "outputs": [],
   "source": [
    "from huggingface_hub import list_models\n",
    "\n",
    "# List models by user \"vikhyatk\"\n",
    "models_user = list_models(author=\"vikhyatk\")\n",
    "print(\"Models by vikhyatk:\")\n",
    "for m in models_user:\n",
    "    print(\"-\", m.modelId)\n",
    "\n",
    "# List models under org \"moondream\"\n",
    "models_org = list_models(author=\"moondream\")\n",
    "print(\"\\nModels under 'moondream' org:\")\n",
    "for m in models_org:\n",
    "    print(\"-\", m.modelId)"
   ]
  },
  {
   "cell_type": "code",
   "execution_count": null,
   "id": "4d5e1857-1ab3-4e35-b436-27fc1159ab5a",
   "metadata": {
    "scrolled": true
   },
   "outputs": [],
   "source": [
    "model = AutoModelForCausalLM.from_pretrained(\n",
    "    \"vikhyatk/moondream2\",\n",
    "    revision=\"2025-06-21\",\n",
    "    trust_remote_code=True,\n",
    "    device_map=\"auto\",\n",
    ")"
   ]
  },
  {
   "cell_type": "code",
   "execution_count": null,
   "id": "26f52de0-fb12-43ed-a509-b6b4af035401",
   "metadata": {},
   "outputs": [],
   "source": [
    "dtype = next(model.parameters()).dtype\n",
    "print(dtype)"
   ]
  },
  {
   "cell_type": "code",
   "execution_count": 3,
   "id": "4d57cc21-fa83-440b-9beb-e94eb96c2f05",
   "metadata": {},
   "outputs": [],
   "source": [
    "model2 = AutoModelForCausalLM.from_pretrained(\n",
    "    \"moondream/moondream-2b-2025-04-14\",\n",
    "    # revision=\"2025-06-21\",\n",
    "    trust_remote_code=True,\n",
    "    device_map=\"auto\", \n",
    ")"
   ]
  },
  {
   "cell_type": "code",
   "execution_count": 4,
   "id": "edd9182d-ef2d-43f6-be28-283a7d2ee1f3",
   "metadata": {},
   "outputs": [
    {
     "name": "stdout",
     "output_type": "stream",
     "text": [
      "torch.float16\n"
     ]
    }
   ],
   "source": [
    "dtype = next(model2.parameters()).dtype\n",
    "print(dtype)"
   ]
  },
  {
   "cell_type": "code",
   "execution_count": null,
   "id": "b7fcf528-7a72-41cc-a436-b4205ffe1f2a",
   "metadata": {},
   "outputs": [],
   "source": [
    "print(model)"
   ]
  },
  {
   "cell_type": "markdown",
   "id": "fce4c757-08fc-4e79-ad84-c99c3f7f9907",
   "metadata": {},
   "source": [
    "### 1. Short Caption"
   ]
  },
  {
   "cell_type": "code",
   "execution_count": null,
   "id": "fdd63ae8-5a81-497b-9e05-10996cc326ef",
   "metadata": {},
   "outputs": [],
   "source": [
    "img = Image.open(\"../tasks/bird.jpg\")\n",
    "print('Short caption:')\n",
    "t1 = time.time()\n",
    "print(model.caption(img, length=\"short\")[\"caption\"])\n",
    "t2 = time.time()\n",
    "diff = t2 - t1\n",
    "print(f\"Total time taken : {round(diff,2)}\")"
   ]
  },
  {
   "cell_type": "markdown",
   "id": "2aa95fbe-3550-4411-bfa0-b09faca160c5",
   "metadata": {},
   "source": [
    "### 2. Normal Caption"
   ]
  },
  {
   "cell_type": "code",
   "execution_count": null,
   "id": "af25d522-408e-4ce1-8083-8ce28ae6f8b8",
   "metadata": {},
   "outputs": [],
   "source": [
    "print('Normal caption:')\n",
    "t1 = time.time()\n",
    "normal_caption = model.caption(img, length=\"normal\")[\"caption\"]\n",
    "\n",
    "for t in normal_caption:\n",
    "    print(t, end=\"\", flush=True)\n",
    "t2 = time.time()\n",
    "diff = t2 - t1\n",
    "print(f\"\\Caption Time : {round(diff,2)}\")"
   ]
  },
  {
   "cell_type": "markdown",
   "id": "9d9107ec-3499-4da0-b604-06d78abf1839",
   "metadata": {},
   "source": [
    "### 3. Long Caption"
   ]
  },
  {
   "cell_type": "code",
   "execution_count": null,
   "id": "f2415f87-4300-42fc-9c0e-72e52f8d85e0",
   "metadata": {},
   "outputs": [],
   "source": [
    "print('Long caption:')\n",
    "t1 = time.time()\n",
    "long_caption = model.caption(img, length=\"long\")[\"caption\"]\n",
    "\n",
    "for t in long_caption:\n",
    "    print(t, end=\"\", flush=True)\n",
    "    \n",
    "t2 = time.time()\n",
    "diff = t2 - t1\n",
    "print(f\"\\nCaption Time : {round(diff,2)}\")"
   ]
  },
  {
   "cell_type": "markdown",
   "id": "6109f1a7-5bfe-4447-9105-fbfa6a41ab09",
   "metadata": {},
   "source": [
    "### 4. VQA using MoonDream - Example 1"
   ]
  },
  {
   "cell_type": "code",
   "execution_count": null,
   "id": "45ab6e53-c014-4143-9731-c82b206c74fb",
   "metadata": {},
   "outputs": [],
   "source": [
    "# Visual Querying\n",
    "qimg = Image.open('../tasks/potholes.png')\n",
    "print(\"\\nVisual query: 'How many potholes are there in the image?'\")\n",
    "print(model.query(qimg, \"How many potholes are there in the image?\")[\"answer\"])"
   ]
  },
  {
   "cell_type": "markdown",
   "id": "9808a46d-6acb-417f-a92c-3eb7466d920d",
   "metadata": {},
   "source": [
    "### 5. VQA using MoonDream - Example 2"
   ]
  },
  {
   "cell_type": "code",
   "execution_count": null,
   "id": "8db3f428-d94c-47a0-9202-bfff83ecafff",
   "metadata": {},
   "outputs": [],
   "source": [
    "# Visual Querying\n",
    "qimg = Image.open('../tasks/cable-trip.jpg')\n",
    "print(\"\\nVisual query: 'Why is the person falling?'\")\n",
    "print(model.query(qimg, \"Why is the person falling?\")[\"answer\"])"
   ]
  },
  {
   "cell_type": "markdown",
   "id": "f9cc6965-af97-4601-adcc-92170b5e6319",
   "metadata": {},
   "source": [
    "### 6. Object Detection"
   ]
  },
  {
   "cell_type": "code",
   "execution_count": null,
   "id": "1385436f-4d9b-42e2-bad6-3106451e9996",
   "metadata": {},
   "outputs": [],
   "source": [
    "# Object Detection\n",
    "imgf = Image.open('../tasks/driving-gaze.jpg')\n",
    "print(\"\\nObject detection: 'face'\")\n",
    "objects = model.detect(imgf, \"face\")[\"objects\"]\n",
    "print(f\"Found {len(objects)} face(s)\")\n",
    "w, h = imgf.size"
   ]
  },
  {
   "cell_type": "code",
   "execution_count": null,
   "id": "96b28ee6-5bba-4e39-a9b4-0a15633b7e23",
   "metadata": {},
   "outputs": [],
   "source": [
    "for bbox in objects:\n",
    "    # Convert normalized to pixel coords\n",
    "    x_min = int(bbox['x_min'] * w)\n",
    "    y_min = int(bbox['y_min'] * h)\n",
    "    x_max = int(bbox['x_max'] * w)\n",
    "    y_max = int(bbox['y_max'] * h)\n",
    "\n",
    "print(x_min)"
   ]
  },
  {
   "cell_type": "code",
   "execution_count": null,
   "id": "03d4d686-dd73-47a4-9fd4-6cc8cdf0c0e2",
   "metadata": {},
   "outputs": [],
   "source": [
    "# Create draw object\n",
    "draw = ImageDraw.Draw(imgf)\n",
    "# Loop over bboxes\n",
    "for bbox in objects:\n",
    "    # Convert normalized to pixel coords\n",
    "    x_min = int(bbox['x_min'] * w)\n",
    "    y_min = int(bbox['y_min'] * h)\n",
    "    x_max = int(bbox['x_max'] * w)\n",
    "    y_max = int(bbox['y_max'] * h)\n",
    "\n",
    "    # Draw rectangle (outline only)\n",
    "    draw.rectangle([x_min, y_min, x_max, y_max], outline=\"green\", width=3)\n",
    "\n",
    "    # Optionally add text\n",
    "    draw.text((x_min, y_min - 15), \"Face\", fill=\"green\")\n",
    "\n",
    "plt.figure(figsize = [20, 8])\n",
    "plt.subplot(121); plt.imshow(imgf); plt.title('Person Face')"
   ]
  },
  {
   "cell_type": "markdown",
   "id": "c03b4510-efb6-4375-9354-d04f49b117e7",
   "metadata": {},
   "source": [
    "### 7. Pointing a Person"
   ]
  },
  {
   "cell_type": "code",
   "execution_count": null,
   "id": "b5c29509-ebb2-4a84-91b7-eb3ab2270a26",
   "metadata": {},
   "outputs": [],
   "source": [
    "# Pointing\n",
    "print(\"\\nPointing: 'person'\")\n",
    "points = model.point(image, \"person\")[\"points\"]\n",
    "print(f\"Found {len(points)} person(s)\")"
   ]
  },
  {
   "cell_type": "code",
   "execution_count": null,
   "id": "54a46529-05f8-4140-baf8-4b1307d5b95d",
   "metadata": {},
   "outputs": [],
   "source": []
  }
 ],
 "metadata": {
  "kernelspec": {
   "display_name": "vlm",
   "language": "python",
   "name": "vlm"
  },
  "language_info": {
   "codemirror_mode": {
    "name": "ipython",
    "version": 3
   },
   "file_extension": ".py",
   "mimetype": "text/x-python",
   "name": "python",
   "nbconvert_exporter": "python",
   "pygments_lexer": "ipython3",
   "version": "3.10.18"
  }
 },
 "nbformat": 4,
 "nbformat_minor": 5
}

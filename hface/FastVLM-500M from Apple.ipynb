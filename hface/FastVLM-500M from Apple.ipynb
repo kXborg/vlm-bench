{
 "cells": [
  {
   "cell_type": "code",
   "execution_count": 1,
   "id": "dce9c92a-7581-4df3-a2f2-639eb6112286",
   "metadata": {},
   "outputs": [],
   "source": [
    "import torch\n",
    "import time\n",
    "from PIL import Image\n",
    "from transformers import AutoTokenizer, AutoModelForCausalLM"
   ]
  },
  {
   "cell_type": "code",
   "execution_count": 2,
   "id": "87ebd383-d2e3-459b-aac7-a1dffb9d84f3",
   "metadata": {},
   "outputs": [
    {
     "data": {
      "application/vnd.jupyter.widget-view+json": {
       "model_id": "b8e1494ed110450b8351293bebc44336",
       "version_major": 2,
       "version_minor": 0
      },
      "text/plain": [
       "tokenizer_config.json: 0.00B [00:00, ?B/s]"
      ]
     },
     "metadata": {},
     "output_type": "display_data"
    },
    {
     "data": {
      "application/vnd.jupyter.widget-view+json": {
       "model_id": "207bf8db0fcb4ce98a856c2e78625581",
       "version_major": 2,
       "version_minor": 0
      },
      "text/plain": [
       "vocab.json: 0.00B [00:00, ?B/s]"
      ]
     },
     "metadata": {},
     "output_type": "display_data"
    },
    {
     "data": {
      "application/vnd.jupyter.widget-view+json": {
       "model_id": "db6717076df74fbc90e4c149f4aa2009",
       "version_major": 2,
       "version_minor": 0
      },
      "text/plain": [
       "merges.txt: 0.00B [00:00, ?B/s]"
      ]
     },
     "metadata": {},
     "output_type": "display_data"
    },
    {
     "data": {
      "application/vnd.jupyter.widget-view+json": {
       "model_id": "4cdb560f03f64210a0b29475cd0b4020",
       "version_major": 2,
       "version_minor": 0
      },
      "text/plain": [
       "added_tokens.json:   0%|          | 0.00/80.0 [00:00<?, ?B/s]"
      ]
     },
     "metadata": {},
     "output_type": "display_data"
    },
    {
     "data": {
      "application/vnd.jupyter.widget-view+json": {
       "model_id": "d885a9ad7be7449f9607a24ddda200ae",
       "version_major": 2,
       "version_minor": 0
      },
      "text/plain": [
       "special_tokens_map.json:   0%|          | 0.00/367 [00:00<?, ?B/s]"
      ]
     },
     "metadata": {},
     "output_type": "display_data"
    },
    {
     "data": {
      "application/vnd.jupyter.widget-view+json": {
       "model_id": "3fe9412bf464422cbb88f16bdef6a846",
       "version_major": 2,
       "version_minor": 0
      },
      "text/plain": [
       "config.json: 0.00B [00:00, ?B/s]"
      ]
     },
     "metadata": {},
     "output_type": "display_data"
    },
    {
     "data": {
      "application/vnd.jupyter.widget-view+json": {
       "model_id": "ec15c59d06b4438183d1132267b6108d",
       "version_major": 2,
       "version_minor": 0
      },
      "text/plain": [
       "llava_qwen.py: 0.00B [00:00, ?B/s]"
      ]
     },
     "metadata": {},
     "output_type": "display_data"
    },
    {
     "name": "stderr",
     "output_type": "stream",
     "text": [
      "A new version of the following files was downloaded from https://huggingface.co/apple/FastVLM-0.5B:\n",
      "- llava_qwen.py\n",
      ". Make sure to double-check they do not contain any added malicious code. To avoid downloading new versions of the code file, you can pin a revision.\n"
     ]
    },
    {
     "data": {
      "application/vnd.jupyter.widget-view+json": {
       "model_id": "4821fbfc94d348c58561f5701506e6a6",
       "version_major": 2,
       "version_minor": 0
      },
      "text/plain": [
       "model.safetensors:   0%|          | 0.00/1.52G [00:00<?, ?B/s]"
      ]
     },
     "metadata": {},
     "output_type": "display_data"
    },
    {
     "data": {
      "application/vnd.jupyter.widget-view+json": {
       "model_id": "59010c4315c648d59d40d2265ef2c484",
       "version_major": 2,
       "version_minor": 0
      },
      "text/plain": [
       "generation_config.json:   0%|          | 0.00/100 [00:00<?, ?B/s]"
      ]
     },
     "metadata": {},
     "output_type": "display_data"
    }
   ],
   "source": [
    "MID = \"apple/FastVLM-0.5B\"\n",
    "IMAGE_TOKEN_INDEX = -200  # what the model code looks for\n",
    "# Load\n",
    "tok = AutoTokenizer.from_pretrained(MID, trust_remote_code=True)\n",
    "model = AutoModelForCausalLM.from_pretrained(\n",
    "    MID,\n",
    "    dtype=torch.float16 if torch.cuda.is_available() else torch.float32,\n",
    "    device_map=\"auto\",\n",
    "    trust_remote_code=True,\n",
    ")"
   ]
  },
  {
   "cell_type": "code",
   "execution_count": 3,
   "id": "80933bfe-7875-4173-a708-d8dad15116be",
   "metadata": {},
   "outputs": [],
   "source": [
    "# Build chat -> render to string (not tokens) so we can place <image> exactly\n",
    "messages = [\n",
    "    {\"role\": \"user\", \"content\": \"<image>\\nDescribe this image in detail.\"}\n",
    "]\n",
    "rendered = tok.apply_chat_template(\n",
    "    messages, add_generation_prompt=True, tokenize=False\n",
    ")\n",
    "pre, post = rendered.split(\"<image>\", 1)\n",
    "\n",
    "# Tokenize the text *around* the image token (no extra specials!)\n",
    "pre_ids  = tok(pre,  return_tensors=\"pt\", add_special_tokens=False).input_ids\n",
    "post_ids = tok(post, return_tensors=\"pt\", add_special_tokens=False).input_ids\n",
    "\n",
    "# Splice in the IMAGE token id (-200) at the placeholder position\n",
    "img_tok = torch.tensor([[IMAGE_TOKEN_INDEX]], dtype=pre_ids.dtype)\n",
    "input_ids = torch.cat([pre_ids, img_tok, post_ids], dim=1).to(model.device)\n",
    "attention_mask = torch.ones_like(input_ids, device=model.device)"
   ]
  },
  {
   "cell_type": "markdown",
   "id": "82e8dd10-b270-4ac0-9de5-3db1439dea3a",
   "metadata": {},
   "source": [
    "### Check Number of Tokens"
   ]
  },
  {
   "cell_type": "code",
   "execution_count": 4,
   "id": "21a94982-1001-4be4-bf1c-55d8221748b9",
   "metadata": {},
   "outputs": [
    {
     "name": "stdout",
     "output_type": "stream",
     "text": [
      "32768\n"
     ]
    }
   ],
   "source": [
    "print(model.config.max_position_embeddings)"
   ]
  },
  {
   "cell_type": "markdown",
   "id": "8979ff8a-0ed5-4e31-9163-72659cfeb39c",
   "metadata": {},
   "source": [
    "### Generate Result"
   ]
  },
  {
   "cell_type": "code",
   "execution_count": null,
   "id": "034479c2-b52b-4ea0-87f9-9e8bfa2d9ed5",
   "metadata": {},
   "outputs": [],
   "source": [
    "# Preprocess image via the model's own processor\n",
    "img = Image.open(\"../tasks/bird.jpg\").convert(\"RGB\")\n",
    "px = model.get_vision_tower().image_processor(images=img, return_tensors=\"pt\")[\"pixel_values\"]\n",
    "px = px.to(model.device, dtype=model.dtype)\n",
    "# Generate\n",
    "t1 = time.time()\n",
    "with torch.no_grad():\n",
    "    out = model.generate(\n",
    "        inputs=input_ids,\n",
    "        attention_mask=attention_mask,\n",
    "        images=px,\n",
    "        max_new_tokens=1024,\n",
    "    )\n",
    "t2 = time.time()\n",
    "print(tok.decode(out[0], skip_special_tokens=True))\n",
    "\n",
    "print(f\"Generation Time: {round(t2-t1,2)}\")"
   ]
  },
  {
   "cell_type": "code",
   "execution_count": 10,
   "id": "e19f3c37-6df4-464b-9e0e-139de33e1c13",
   "metadata": {},
   "outputs": [
    {
     "name": "stdout",
     "output_type": "stream",
     "text": [
      "A vibrant outdoor photograph captures a striking scene dominated by a bright red spike of flowers at the top of the image, contrasting sharply against a yellowish-white background. The focal point of the right side of the image is a blue-tinted hummingbird mid-flight against this backdrop. The bird, with its distinct black eye and long black beak, gracefully hovers directly in front of the flower stalk, as if it’s about to land on the blooms. Its body is a beautiful mosaic of colors, with greenish speckles on the side, and gray streaks along its body.\n",
      "\n",
      "The flower cluster itself is long and cylindrical,\n",
      "Generation Time: 13.86\n"
     ]
    }
   ],
   "source": [
    "# Preprocess image via the model's own processor\n",
    "img = Image.open(\"../tasks/bird.jpg\").convert(\"RGB\")\n",
    "px = model.get_vision_tower().image_processor(images=img, return_tensors=\"pt\")[\"pixel_values\"]\n",
    "px = px.to(model.device, dtype=model.dtype)\n",
    "# Generate\n",
    "t1 = time.time()\n",
    "with torch.no_grad():\n",
    "    out = model.generate(\n",
    "        inputs=input_ids,\n",
    "        attention_mask=attention_mask,\n",
    "        images=px,\n",
    "        max_new_tokens=128,\n",
    "    )\n",
    "t2 = time.time()\n",
    "print(tok.decode(out[0], skip_special_tokens=True))\n",
    "\n",
    "print(f\"Generation Time: {round(t2-t1,2)}\")"
   ]
  },
  {
   "cell_type": "code",
   "execution_count": null,
   "id": "32b8b75f-772d-432a-82ca-0c27c3769a52",
   "metadata": {},
   "outputs": [],
   "source": []
  }
 ],
 "metadata": {
  "kernelspec": {
   "display_name": "vlm",
   "language": "python",
   "name": "vlm"
  },
  "language_info": {
   "codemirror_mode": {
    "name": "ipython",
    "version": 3
   },
   "file_extension": ".py",
   "mimetype": "text/x-python",
   "name": "python",
   "nbconvert_exporter": "python",
   "pygments_lexer": "ipython3",
   "version": "3.10.12"
  }
 },
 "nbformat": 4,
 "nbformat_minor": 5
}

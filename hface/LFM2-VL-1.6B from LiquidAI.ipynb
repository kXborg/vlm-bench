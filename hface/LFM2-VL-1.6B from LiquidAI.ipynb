{
 "cells": [
  {
   "cell_type": "markdown",
   "id": "fe9ae95b-9c10-48cc-8a75-35b366ace6ea",
   "metadata": {},
   "source": [
    "## Liquid AI 1.6B"
   ]
  },
  {
   "cell_type": "code",
   "execution_count": 1,
   "id": "e53e44f3-7740-41a3-b72a-a60db7e1f6fe",
   "metadata": {},
   "outputs": [
    {
     "name": "stderr",
     "output_type": "stream",
     "text": [
      "`torch_dtype` is deprecated! Use `dtype` instead!\n"
     ]
    },
    {
     "data": {
      "application/vnd.jupyter.widget-view+json": {
       "model_id": "9cda7c3b66e144bb9bb290b8b3d226cb",
       "version_major": 2,
       "version_minor": 0
      },
      "text/plain": [
       "Fetching 2 files:   0%|          | 0/2 [00:00<?, ?it/s]"
      ]
     },
     "metadata": {},
     "output_type": "display_data"
    }
   ],
   "source": [
    "import time\n",
    "from PIL import Image\n",
    "from transformers import AutoProcessor, AutoModelForImageTextToText\n",
    "from transformers.image_utils import load_image\n",
    "\n",
    "# Load model and processor\n",
    "model_id = \"LiquidAI/LFM2-VL-1.6B\"\n",
    "model = AutoModelForImageTextToText.from_pretrained(\n",
    "    model_id,\n",
    "    device_map=\"auto\",\n",
    "    dtype=\"bfloat16\",\n",
    "    trust_remote_code=True\n",
    ")\n",
    "processor = AutoProcessor.from_pretrained(model_id, trust_remote_code=True)"
   ]
  },
  {
   "cell_type": "code",
   "execution_count": 11,
   "id": "f0f214d7-ce68-466a-9c1e-74fe9a64db5c",
   "metadata": {},
   "outputs": [
    {
     "name": "stdout",
     "output_type": "stream",
     "text": [
      "user\n",
      "What do you see in the image? Answer in 100 words.\n",
      "assistant\n",
      "The image showcases a hummingbird in flight, hovering near a vibrant flower. The hummingbird's wings are blurred, capturing its rapid movement. The flower is striking, with a green stem and a mix of orange and yellow petals. The background is a soft blur of yellow and green, creating a warm, natural setting. This scene beautifully illustrates the symbiotic relationship between hummingbirds and flowers, highlighting the intricate details of both creatures in their natural habitat.\n",
      "\n",
      " Generation Time : 7.95 s\n"
     ]
    }
   ],
   "source": [
    "# Load image and create conversation\n",
    "image = Image.open(\"../tasks/bird.jpg\")\n",
    "conversation = [\n",
    "    {\n",
    "        \"role\": \"user\",\n",
    "        \"content\": [\n",
    "            {\"type\": \"image\", \"image\": image},\n",
    "            {\"type\": \"text\", \"text\": \"What do you see in the image? Answer in 100 words.\"},\n",
    "        ],\n",
    "    },\n",
    "]\n",
    "\n",
    "# Generate Answer\n",
    "inputs = processor.apply_chat_template(\n",
    "    conversation,\n",
    "    add_generation_prompt=True,\n",
    "    return_tensors=\"pt\",\n",
    "    return_dict=True,\n",
    "    tokenize=True,\n",
    ").to(model.device)\n",
    "\n",
    "t1 = time.time()\n",
    "outputs = model.generate(**inputs, max_new_tokens=128)\n",
    "t2 = time.time()\n",
    "\n",
    "gen = processor.batch_decode(outputs, skip_special_tokens=True)[0]\n",
    "print(gen)\n",
    "\n",
    "print(f\"\\n Generation Time : {round(t2-t1, 2)} s\")"
   ]
  },
  {
   "cell_type": "code",
   "execution_count": 13,
   "id": "17cb2567-c6f1-4b62-8e67-1d25a32ad3f5",
   "metadata": {},
   "outputs": [
    {
     "name": "stdout",
     "output_type": "stream",
     "text": [
      "user\n",
      "Find the bird and answer it's bbox center coordinate in (x,y) format normalized using image height and width\n",
      "assistant\n",
      "The hummingbird in the image is located in the upper right quadrant, facing left. Its center coordinate in normalized (x,y) format is:\n",
      "\n",
      "(0.5, 0.3)\n",
      "\n",
      "This coordinate represents the approximate center of the hummingbird's body relative to the image's width and height.\n",
      "\n",
      " Generation Time : 5.96 s\n"
     ]
    }
   ],
   "source": [
    "# Load image and create conversation\n",
    "image = Image.open(\"../tasks/bird.jpg\")\n",
    "conversation = [\n",
    "    {\n",
    "        \"role\": \"user\",\n",
    "        \"content\": [\n",
    "            {\"type\": \"image\", \"image\": image},\n",
    "            {\"type\": \"text\", \"text\": \"Find the bird and answer it's bbox center coordinate in (x,y) format normalized using image height and width\"},\n",
    "        ],\n",
    "    },\n",
    "]\n",
    "\n",
    "# Generate Answer\n",
    "inputs = processor.apply_chat_template(\n",
    "    conversation,\n",
    "    add_generation_prompt=True,\n",
    "    return_tensors=\"pt\",\n",
    "    return_dict=True,\n",
    "    tokenize=True,\n",
    ").to(model.device)\n",
    "\n",
    "t1 = time.time()\n",
    "outputs = model.generate(**inputs, max_new_tokens=128)\n",
    "t2 = time.time()\n",
    "\n",
    "gen = processor.batch_decode(outputs, skip_special_tokens=True)[0]\n",
    "print(gen)\n",
    "\n",
    "print(f\"\\n Generation Time : {round(t2-t1, 2)} s\")"
   ]
  },
  {
   "cell_type": "code",
   "execution_count": null,
   "id": "862c735f-695f-48bb-ad81-fd09581e69bd",
   "metadata": {},
   "outputs": [],
   "source": []
  }
 ],
 "metadata": {
  "kernelspec": {
   "display_name": "vlm",
   "language": "python",
   "name": "vlm"
  },
  "language_info": {
   "codemirror_mode": {
    "name": "ipython",
    "version": 3
   },
   "file_extension": ".py",
   "mimetype": "text/x-python",
   "name": "python",
   "nbconvert_exporter": "python",
   "pygments_lexer": "ipython3",
   "version": "3.10.12"
  }
 },
 "nbformat": 4,
 "nbformat_minor": 5
}

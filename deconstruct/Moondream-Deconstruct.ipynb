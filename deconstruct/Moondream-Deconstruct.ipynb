{
 "cells": [
  {
   "cell_type": "markdown",
   "id": "7fb5e03e-a541-4456-87c4-37e39c37231a",
   "metadata": {},
   "source": [
    "## Let's Build a Toy Model\n",
    "We will do the following here:\n",
    " - A 4x4 toy image \n",
    " - Split into 2x2 patches (4 pacthes total)\n",
    " - Flatten each patch to a vector of length 4\n",
    " - Linear projection mapping each 4 dimensional patch to an 8 dimensional embedding."
   ]
  },
  {
   "cell_type": "code",
   "execution_count": 1,
   "id": "a2bfe56e-3bf1-40d0-9e70-9469a0cdcf3a",
   "metadata": {},
   "outputs": [],
   "source": [
    "import torch\n",
    "import torch.nn as nn"
   ]
  },
  {
   "cell_type": "markdown",
   "id": "389ec831-df04-4c45-b7a7-ee3f6e232a19",
   "metadata": {},
   "source": [
    "### Make a toy image\n",
    "A 4x4 grayscale image of 1 channel"
   ]
  },
  {
   "cell_type": "code",
   "execution_count": 2,
   "id": "14c6cf9c-cd5e-440d-ab6e-05691ae79b6c",
   "metadata": {},
   "outputs": [
    {
     "name": "stdout",
     "output_type": "stream",
     "text": [
      "tensor([[ 0.,  1.,  2.,  3.],\n",
      "        [ 4.,  5.,  6.,  7.],\n",
      "        [ 8.,  9., 10., 11.],\n",
      "        [12., 13., 14., 15.]])\n"
     ]
    }
   ],
   "source": [
    "img = torch.arange(16).reshape(4,4).float()\n",
    "print(img)"
   ]
  },
  {
   "cell_type": "markdown",
   "id": "1ab73282-0a16-49d7-9cad-853f9ac45e1e",
   "metadata": {},
   "source": [
    "### Split into Patches\n",
    "Let's say patch size - 2x2"
   ]
  },
  {
   "cell_type": "code",
   "execution_count": 3,
   "id": "761879c6-23f6-4c36-aaa6-00ab196ee10f",
   "metadata": {},
   "outputs": [
    {
     "name": "stdout",
     "output_type": "stream",
     "text": [
      "torch.Size([2, 2, 2, 2])\n"
     ]
    }
   ],
   "source": [
    "patches = img.unfold(0,2,2).unfold(1,2,2)\n",
    "print(patches.shape)"
   ]
  },
  {
   "cell_type": "code",
   "execution_count": 4,
   "id": "79455379-d951-46ed-b09b-a463e924175b",
   "metadata": {},
   "outputs": [
    {
     "name": "stdout",
     "output_type": "stream",
     "text": [
      "tensor([[[[ 0.,  1.],\n",
      "          [ 4.,  5.]],\n",
      "\n",
      "         [[ 2.,  3.],\n",
      "          [ 6.,  7.]]],\n",
      "\n",
      "\n",
      "        [[[ 8.,  9.],\n",
      "          [12., 13.]],\n",
      "\n",
      "         [[10., 11.],\n",
      "          [14., 15.]]]])\n"
     ]
    }
   ],
   "source": [
    "print(patches)"
   ]
  },
  {
   "cell_type": "markdown",
   "id": "ac7dbec7-25ad-479f-86e2-26d621d4a0d0",
   "metadata": {},
   "source": [
    "### Flatten Patches"
   ]
  },
  {
   "cell_type": "code",
   "execution_count": 5,
   "id": "a674f2cd-e88b-4eae-a74c-4e347efc0a4a",
   "metadata": {},
   "outputs": [
    {
     "name": "stdout",
     "output_type": "stream",
     "text": [
      "tensor([[ 0.,  1.,  4.,  5.],\n",
      "        [ 2.,  3.,  6.,  7.],\n",
      "        [ 8.,  9., 12., 13.],\n",
      "        [10., 11., 14., 15.]])\n"
     ]
    }
   ],
   "source": [
    "patches = patches.contiguous().view(-1,2*2)\n",
    "print(patches)"
   ]
  },
  {
   "cell_type": "code",
   "execution_count": 6,
   "id": "09ed9a3c-f42a-43c1-8f4f-531c8012d6ea",
   "metadata": {},
   "outputs": [
    {
     "data": {
      "text/plain": [
       "torch.Size([4, 4])"
      ]
     },
     "execution_count": 6,
     "metadata": {},
     "output_type": "execute_result"
    }
   ],
   "source": [
    "patches.shape"
   ]
  },
  {
   "cell_type": "markdown",
   "id": "26402d48-b7c8-4ef8-b2d8-f843221b62ba",
   "metadata": {},
   "source": [
    "### Linear Projection (Patch Embedding)"
   ]
  },
  {
   "cell_type": "code",
   "execution_count": 7,
   "id": "86659fe5-2261-4225-ac3c-b777c8e9db49",
   "metadata": {},
   "outputs": [
    {
     "name": "stdout",
     "output_type": "stream",
     "text": [
      "Shape:  torch.Size([4, 8])\n",
      "tensor([[-0.7326, -0.2139, -0.4815,  0.9404, -2.4267, -1.5183,  0.8126, -1.3019],\n",
      "        [-0.2643, -1.4233, -1.2799,  0.9261, -3.5453, -2.5814,  1.9590, -2.5639],\n",
      "        [ 1.1404, -5.0516, -3.6749,  0.8834, -6.9011, -5.7708,  5.3981, -6.3500],\n",
      "        [ 1.6087, -6.2611, -4.4732,  0.8691, -8.0196, -6.8340,  6.5445, -7.6121]],\n",
      "       grad_fn=<AddmmBackward0>)\n"
     ]
    }
   ],
   "source": [
    "# In 4 --> out 8\n",
    "linear = nn.Linear(4,8)\n",
    "embedded = linear(patches)\n",
    "print(\"Shape: \", embedded.shape)\n",
    "print(embedded)"
   ]
  },
  {
   "cell_type": "markdown",
   "id": "aad05910-726d-4aec-9d8e-794a19cbc7a6",
   "metadata": {},
   "source": [
    "**Random Weights and Biases for Now**\n",
    "\n",
    "The embedding will be random at start since weights are random. Let's check the weights and biases."
   ]
  },
  {
   "cell_type": "code",
   "execution_count": 8,
   "id": "1a87ad0c-66a4-4aeb-b1ff-1102c60cdb78",
   "metadata": {},
   "outputs": [
    {
     "name": "stdout",
     "output_type": "stream",
     "text": [
      "Parameter containing:\n",
      "tensor([[ 0.3278,  0.1936, -0.1148, -0.1725],\n",
      "        [-0.3879, -0.2004,  0.2324, -0.2488],\n",
      "        [ 0.0540, -0.4328,  0.1982, -0.2186],\n",
      "        [-0.4551,  0.3248, -0.0425,  0.1657],\n",
      "        [-0.0325,  0.1682, -0.4246, -0.2704],\n",
      "        [ 0.0720, -0.3882, -0.3585,  0.1431],\n",
      "        [ 0.0539,  0.4325,  0.2371, -0.1504],\n",
      "        [-0.2661, -0.2569,  0.1480, -0.2560]], requires_grad=True)\n"
     ]
    }
   ],
   "source": [
    "print(linear.weight)"
   ]
  },
  {
   "cell_type": "code",
   "execution_count": 9,
   "id": "b976a54a-7722-4349-94be-d275a64243c2",
   "metadata": {},
   "outputs": [
    {
     "name": "stdout",
     "output_type": "stream",
     "text": [
      "Parameter containing:\n",
      "tensor([ 0.3956,  0.3010,  0.2512, -0.0430,  0.4555, -0.4116,  0.1836, -0.3567],\n",
      "       requires_grad=True)\n"
     ]
    }
   ],
   "source": [
    "print(linear.bias)"
   ]
  },
  {
   "cell_type": "markdown",
   "id": "bbabd843-9101-43c3-991d-8af31f3707b3",
   "metadata": {},
   "source": [
    "### Add Positional Embedding\n",
    "Just like words in a sentence need order, patches in an image need location info. We’ll add simple positional embeddings (learnable vectors). So that each vector encodes content(pixels) + pposition (where it came from)."
   ]
  },
  {
   "cell_type": "code",
   "execution_count": 10,
   "id": "1b4fcaa5-c13a-4d66-bad7-47373cb04454",
   "metadata": {},
   "outputs": [
    {
     "name": "stdout",
     "output_type": "stream",
     "text": [
      "torch.Size([4, 8])\n"
     ]
    }
   ],
   "source": [
    "# learnable positional embeddings for 4 patches, each 8 dim\n",
    "pos_embed = nn.Parameter(torch.zeros(4,8))\n",
    "\n",
    "# Add to pacth embeddings\n",
    "embedded_with_pos = embedded + pos_embed\n",
    "print(embedded_with_pos.shape)"
   ]
  },
  {
   "cell_type": "code",
   "execution_count": 11,
   "id": "5a884a65-2a13-4562-a843-0641eeffe5ea",
   "metadata": {},
   "outputs": [
    {
     "data": {
      "text/plain": [
       "tensor([[-0.7326, -0.2139, -0.4815,  0.9404, -2.4267, -1.5183,  0.8126, -1.3019],\n",
       "        [-0.2643, -1.4233, -1.2799,  0.9261, -3.5453, -2.5814,  1.9590, -2.5639],\n",
       "        [ 1.1404, -5.0516, -3.6749,  0.8834, -6.9011, -5.7708,  5.3981, -6.3500],\n",
       "        [ 1.6087, -6.2611, -4.4732,  0.8691, -8.0196, -6.8340,  6.5445, -7.6121]],\n",
       "       grad_fn=<AddBackward0>)"
      ]
     },
     "execution_count": 11,
     "metadata": {},
     "output_type": "execute_result"
    }
   ],
   "source": [
    "embedded_with_pos"
   ]
  },
  {
   "cell_type": "markdown",
   "id": "064d34c4-2802-4369-9953-36d733419e99",
   "metadata": {},
   "source": [
    "### Mini Self-Attention Layer\n",
    "Let’s mimic a tiny Transformer attention head on these 4 patch embeddings."
   ]
  },
  {
   "cell_type": "code",
   "execution_count": 12,
   "id": "69779af5-3985-4d78-bf17-ecdc30ccb7d6",
   "metadata": {},
   "outputs": [
    {
     "name": "stdout",
     "output_type": "stream",
     "text": [
      "torch.Size([4, 8])\n"
     ]
    }
   ],
   "source": [
    "# Embedding size\n",
    "d_model = 8\n",
    "\n",
    "# Query/key dimension\n",
    "d_k = d_model // 2\n",
    "\n",
    "# projection matrices\n",
    "W_q = nn.Linear(d_model, d_k, bias=False)\n",
    "W_k = nn.Linear(d_model, d_k, bias=False)\n",
    "W_v = nn.Linear(d_model, d_model, bias=False)\n",
    "\n",
    "# (4, d_k)\n",
    "Q = W_q(embedded_with_pos)\n",
    "# (4, d_k)\n",
    "K = W_k(embedded_with_pos)\n",
    "# (4, d_model)\n",
    "V = W_v(embedded_with_pos)\n",
    "\n",
    "# Attention scores (4,4)\n",
    "scores = Q@K.T/(d_k ** 0.5)\n",
    "attn_weights = scores.softmax(dim=-1)\n",
    "\n",
    "# Weighted sum of values\n",
    "attn_output = attn_weights @ V\n",
    "print(attn_output.shape)"
   ]
  },
  {
   "cell_type": "code",
   "execution_count": 29,
   "id": "32e2d6a1-8519-48d2-bd43-87e18e42cb88",
   "metadata": {},
   "outputs": [
    {
     "data": {
      "text/plain": [
       "tensor([[-1.6244e-01, -1.9080e+00,  1.5089e+00,  1.4638e+00,  1.9021e+00,\n",
       "         -9.1543e-01,  5.5643e-02,  1.8941e+00],\n",
       "        [ 6.4958e-02, -2.3306e+00,  1.4405e+00,  1.9354e+00,  2.1489e+00,\n",
       "         -9.6926e-01,  4.9013e-02,  2.3018e+00],\n",
       "        [ 1.5942e+00, -5.1724e+00,  9.8078e-01,  5.1069e+00,  3.8086e+00,\n",
       "         -1.3313e+00,  4.4255e-03,  5.0439e+00],\n",
       "        [ 1.8317e+00, -5.6138e+00,  9.0936e-01,  5.5996e+00,  4.0664e+00,\n",
       "         -1.3875e+00, -2.5008e-03,  5.4699e+00]], grad_fn=<MmBackward0>)"
      ]
     },
     "execution_count": 29,
     "metadata": {},
     "output_type": "execute_result"
    }
   ],
   "source": [
    "attn_output"
   ]
  },
  {
   "cell_type": "code",
   "execution_count": null,
   "id": "a1cca725-4678-4c3a-a41f-130b0371319e",
   "metadata": {},
   "outputs": [],
   "source": []
  }
 ],
 "metadata": {
  "kernelspec": {
   "display_name": "vlm",
   "language": "python",
   "name": "vlm"
  },
  "language_info": {
   "codemirror_mode": {
    "name": "ipython",
    "version": 3
   },
   "file_extension": ".py",
   "mimetype": "text/x-python",
   "name": "python",
   "nbconvert_exporter": "python",
   "pygments_lexer": "ipython3",
   "version": "3.10.18"
  }
 },
 "nbformat": 4,
 "nbformat_minor": 5
}
